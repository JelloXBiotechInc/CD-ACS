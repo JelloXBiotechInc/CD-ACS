{
 "cells": [
  {
   "cell_type": "markdown",
   "id": "b579123f-e366-448d-9624-c69a7a86f457",
   "metadata": {},
   "source": [
    "# CDACS Model Experiment - Evaluation"
   ]
  },
  {
   "cell_type": "markdown",
   "id": "e19c4251-77fa-476b-ac64-ab8ab05507da",
   "metadata": {
    "jp-MarkdownHeadingCollapsed": true,
    "tags": []
   },
   "source": [
    "## Import necessary libraries"
   ]
  },
  {
   "cell_type": "code",
   "execution_count": null,
   "id": "89fa3bfa-0af4-43dd-a2c8-42d1ffca80a7",
   "metadata": {},
   "outputs": [],
   "source": [
    "import os\n",
    "from IPython.display import clear_output\n",
    "import matplotlib.pyplot as plt"
   ]
  },
  {
   "cell_type": "code",
   "execution_count": null,
   "id": "053b2bbb-daae-4868-8cb4-264c3aac15d8",
   "metadata": {},
   "outputs": [],
   "source": [
    "import cv2\n",
    "import numpy as np\n",
    "from skimage import io, color, measure\n",
    "from skimage.segmentation import watershed\n",
    "import scipy\n",
    "import centrosome.outline\n",
    "import centrosome.cpmorphology\n",
    "from PIL import Image\n",
    "import glob\n",
    "from tqdm import tqdm\n",
    "\n",
    "from module.evaluate.nuclei_util_v2 import identifyprimaryobjects\n",
    "\n",
    "Image.MAX_IMAGE_PIXELS = None"
   ]
  },
  {
   "cell_type": "markdown",
   "id": "3a67f09f-9f7d-4fbb-a049-50dbaa5ed266",
   "metadata": {
    "jp-MarkdownHeadingCollapsed": true,
    "tags": []
   },
   "source": [
    "## Define evaluation functions"
   ]
  },
  {
   "cell_type": "code",
   "execution_count": null,
   "id": "f345110b-b9ec-454a-bef4-0c794e3172fa",
   "metadata": {},
   "outputs": [],
   "source": [
    "def filter_on_size(img, size=1):\n",
    "    labeled_image, object_count = scipy.ndimage.label(img, np.ones((3, 3), bool))\n",
    "    areas = np.array(scipy.ndimage.measurements.sum(np.ones(labeled_image.shape), labeled_image,\n",
    "                                                    np.array(range(0, object_count + 1), dtype=np.int32)),\n",
    "                     dtype=int)\n",
    "\n",
    "    area_image = areas[labeled_image]\n",
    "    labeled_image[area_image < size] = 0\n",
    "    labeled_image, object_count = centrosome.cpmorphology.relabel(labeled_image)\n",
    "    labeled_mask = labeled_image > 0\n",
    "    labeled_mask = labeled_mask * 255\n",
    "    return np.array(labeled_mask, dtype=np.uint8)\n",
    "\n",
    "def labeled_image_crop_region_counting(mask, labeled_image):    \n",
    "    mask = mask > 0\n",
    "    \n",
    "    valid_mask = mask & (labeled_image != 0)\n",
    "    \n",
    "    valid_list = labeled_image[valid_mask == True]\n",
    "\n",
    "    histogram = scipy.sparse.coo_matrix((np.ones(valid_list.shape), (valid_list, np.zeros(valid_list.shape))),\n",
    "                                        shape=(np.max(labeled_image) + 1, 1)).todense()\n",
    "\n",
    "    histogram = np.array(histogram).flatten()\n",
    "    return histogram\n",
    "\n",
    "def evaluate_method(image_path_list, target_path_list, pred_path_list):\n",
    "    total_tp = 0\n",
    "    total_tn = 0\n",
    "    total_fp = 0\n",
    "    total_fn = 0\n",
    "\n",
    "    mask_targets, mask_preds, r_labeled_images = [], [], []\n",
    "    for i in tqdm(range(len(image_path_list))):\n",
    "        print(image_path_list[i].split('/')[-1].split(\"_input\")[0])\n",
    "        img = np.array(Image.open(image_path_list[i]))\n",
    "        mask_target = np.array(Image.open(target_path_list[i]))[:, :, 0]\n",
    "        mask_pred = np.array(Image.open(pred_path_list[i]))[:, :, 0]\n",
    "        mask_pred = filter_on_size(mask_pred, 11)\n",
    "\n",
    "        img_r = img[:, :, 0].copy()\n",
    "        img_r = (img_r - img_r.min()) / (img_r.max() - img_r.min()) * 255\n",
    "\n",
    "        if (img_r.sum() == 0):\n",
    "            r_count = 0\n",
    "            r_outline = np.zeros(img_r.shape)\n",
    "        else:\n",
    "            r_count, r_outline, r_labeled_image = identifyprimaryobjects(img_r, exclude_border_objects=False)\n",
    "            hist_target = labeled_image_crop_region_counting(mask_target, r_labeled_image)\n",
    "            hist_pred = labeled_image_crop_region_counting(mask_pred, r_labeled_image)\n",
    "        \n",
    "        hist_target[hist_target > 0] = 1\n",
    "        hist_pred[hist_pred > 0] = 1\n",
    "\n",
    "        _tp = hist_target + hist_pred\n",
    "        _tp = _tp == 2\n",
    "        _tp = _tp * 1\n",
    "        total_tp = total_tp + _tp.sum()\n",
    "\n",
    "        _tn = hist_target + hist_pred\n",
    "        _tn = _tn == 0\n",
    "        _tn = _tn * 1\n",
    "        total_tn = total_tn + _tn.sum()\n",
    "\n",
    "        _fp = hist_target - hist_pred\n",
    "        _fp = _fp == -1\n",
    "        _fp = _fp * 1\n",
    "        total_fp = total_fp + _fp.sum()\n",
    "\n",
    "        _fn = hist_target - hist_pred\n",
    "        _fn = _fn == 1\n",
    "        _fn = _fn * 1\n",
    "        total_fn = total_fn + _fn.sum()\n",
    "    \n",
    "#     out = [\n",
    "#         [\"total_tp.\", total_tp],\n",
    "#         [\"total_tn.\", total_tn],\n",
    "#         [\"total_fp.\", total_fp],\n",
    "#         [\"total_fn.\", total_fn],\n",
    "#         [\"Sensitivity.\", total_tp / (total_tp + total_fn)],\n",
    "#         [\"Specificity.\", total_tn / (total_tn + total_fp)],\n",
    "#         [\"Acc.\", (total_tp + total_tn) / (total_tp + total_tn + total_fp + total_fn)],\n",
    "#     ]\n",
    "#     out_str = '\\n'.join([' '.join([str(w) for w in l]) for l in out])\n",
    "    \n",
    "#     print(out_str)\n",
    "    \n",
    "    print(\"total_tp.\", total_tp)\n",
    "    print(\"total_tn.\", total_tn)\n",
    "    print(\"total_fp.\", total_fp)\n",
    "    print(\"total_fn.\", total_fn)\n",
    "    print(\"Sensitivity.\", total_tp / (total_tp + total_fn))\n",
    "    print(\"Specificity.\", total_tn / (total_tn + total_fp))\n",
    "    print(\"Acc.\", (total_tp + total_tn) / (total_tp + total_tn + total_fp + total_fn))\n",
    "    \n",
    "#     return out_str"
   ]
  },
  {
   "cell_type": "markdown",
   "id": "4b42a31d-f04e-4711-b671-c6a40a395668",
   "metadata": {},
   "source": [
    "## Evaluation"
   ]
  },
  {
   "cell_type": "code",
   "execution_count": null,
   "id": "2b181976-a8de-4729-b243-35edecdb0179",
   "metadata": {},
   "outputs": [],
   "source": [
    "root = os.path.join('inferences', 'CDACS_HECR')\n",
    "\n",
    "image_path_list = glob.glob(os.path.join(root, \"*_input.png\"))\n",
    "target_path_list = glob.glob(os.path.join(root, \"*_gt.png\"))\n",
    "pred_path_list = glob.glob(os.path.join(root, \"*_pred.png\"))\n",
    "\n",
    "evaluate_method(image_path_list, target_path_list, pred_path_list)"
   ]
  },
  {
   "cell_type": "code",
   "execution_count": null,
   "id": "68179f68-0e53-4eff-b5d8-4ee4afb50de6",
   "metadata": {},
   "outputs": [],
   "source": [
    "root = os.path.join('inferences', 'CDACS_IFCR')\n",
    "\n",
    "image_path_list = glob.glob(os.path.join(root, \"*_input.png\"))\n",
    "target_path_list = glob.glob(os.path.join(root, \"*_gt.png\"))\n",
    "pred_path_list = glob.glob(os.path.join(root, \"*_pred.png\"))\n",
    "\n",
    "evaluate_method(image_path_list, target_path_list, pred_path_list)"
   ]
  }
 ],
 "metadata": {
  "kernelspec": {
   "display_name": "Python 3",
   "language": "python",
   "name": "python3"
  },
  "language_info": {
   "codemirror_mode": {
    "name": "ipython",
    "version": 3
   },
   "file_extension": ".py",
   "mimetype": "text/x-python",
   "name": "python",
   "nbconvert_exporter": "python",
   "pygments_lexer": "ipython3",
   "version": "3.8.10"
  }
 },
 "nbformat": 4,
 "nbformat_minor": 5
}
